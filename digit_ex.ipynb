{
  "nbformat": 4,
  "nbformat_minor": 0,
  "metadata": {
    "colab": {
      "name": "Untitled0.ipynb",
      "provenance": [],
      "authorship_tag": "ABX9TyN5XVwIj40HPvcu/V2nArZt",
      "include_colab_link": true
    },
    "kernelspec": {
      "name": "python3",
      "display_name": "Python 3"
    },
    "language_info": {
      "name": "python"
    }
  },
  "cells": [
    {
      "cell_type": "markdown",
      "metadata": {
        "id": "view-in-github",
        "colab_type": "text"
      },
      "source": [
        "<a href=\"https://colab.research.google.com/github/n-satoshi/test_repository/blob/main/digit_ex.ipynb\" target=\"_parent\"><img src=\"https://colab.research.google.com/assets/colab-badge.svg\" alt=\"Open In Colab\"/></a>"
      ]
    },
    {
      "cell_type": "code",
      "metadata": {
        "colab": {
          "base_uri": "https://localhost:8080/",
          "height": 333
        },
        "id": "gmcpYwnMbB5N",
        "outputId": "6e074019-a3e9-44b1-e085-3473ccfc1eaf"
      },
      "source": [
        "from sklearn import datasets\n",
        "import matplotlib.pyplot as plt\n",
        "\n",
        "digits = datasets.load_digits()\n",
        "\n",
        "print(digits.data.shape)\n",
        "print(digits.keys())\n",
        "#print(digits.data[1000])\n",
        "#print(digits.data[1000].shape)\n",
        "print(digits.target[1000])\n",
        "#print(digits.images[1000])\n",
        "#print(digits.images[1000].shape)\n",
        "plt.imshow(digits.images[1000], cmap=plt.cm.gray_r, interpolation='nearest')\n",
        "\n",
        "print(digits.target_names)"
      ],
      "execution_count": 4,
      "outputs": [
        {
          "output_type": "stream",
          "text": [
            "(1797, 64)\n",
            "dict_keys(['data', 'target', 'target_names', 'images', 'DESCR'])\n",
            "1\n",
            "[0 1 2 3 4 5 6 7 8 9]\n"
          ],
          "name": "stdout"
        },
        {
          "output_type": "display_data",
          "data": {
            "image/png": "[encoded data removed]",
            "text/plain": [
              "<Figure size 432x288 with 1 Axes>"
            ]
          },
          "metadata": {
            "tags": [],
            "needs_background": "light"
          }
        }
      ]
    },
    {
      "cell_type": "code",
      "metadata": {
        "colab": {
          "base_uri": "https://localhost:8080/",
          "height": 316
        },
        "id": "gZwyvHGGcWGe",
        "outputId": "59bcf0f8-1c98-4039-b795-8c220bbccfd3"
      },
      "source": [
        "from sklearn import svm\n",
        "\n",
        "#SVMクラスを初期化、２つのハイパーパラメータを設定\n",
        "model = svm.SVC(gamma=0.001, C=100.)\n",
        "\n",
        "#3番目以降のデータでSVMを学習\n",
        "model.fit(digits.data[3:], digits.target[3:])\n",
        "\n",
        "#3番目以前のデータで予測\n",
        "print('予測値', model.predict(digits.data[:3]))\n",
        "#真値の出力\n",
        "print('真値', digits.target[:3])\n",
        "#2番目のデータの画像\n",
        "plt.imshow(digits.images[2], cmap=plt.cm.gray_r, interpolation='nearest')"
      ],
      "execution_count": 18,
      "outputs": [
        {
          "output_type": "stream",
          "text": [
            "予測値 [0 1 2]\n",
            "真値 [0 1 2]\n"
          ],
          "name": "stdout"
        },
        {
          "output_type": "execute_result",
          "data": {
            "text/plain": [
              "<matplotlib.image.AxesImage at 0x7fd4943d0750>"
            ]
          },
          "metadata": {
            "tags": []
          },
          "execution_count": 18
        },
        {
          "output_type": "display_data",
          "data": {
            "image/png": "[encoded data removed]",
            "text/plain": [
              "<Figure size 432x288 with 1 Axes>"
            ]
          },
          "metadata": {
            "tags": [],
            "needs_background": "light"
          }
        }
      ]
    }
  ]
}